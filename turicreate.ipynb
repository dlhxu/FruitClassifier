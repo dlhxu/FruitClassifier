{
 "cells": [
  {
   "cell_type": "code",
   "execution_count": 1,
   "metadata": {},
   "outputs": [],
   "source": [
    "import turicreate as tc"
   ]
  },
  {
   "cell_type": "code",
   "execution_count": 2,
   "metadata": {},
   "outputs": [],
   "source": [
    "import os"
   ]
  },
  {
   "cell_type": "code",
   "execution_count": 3,
   "metadata": {},
   "outputs": [
    {
     "data": {
      "text/html": [
       "<pre>Read 5398 images in 5.00111 secs\tspeed: 1079.36 file/sec</pre>"
      ],
      "text/plain": [
       "Read 5398 images in 5.00111 secs\tspeed: 1079.36 file/sec"
      ]
     },
     "metadata": {},
     "output_type": "display_data"
    },
    {
     "data": {
      "text/html": [
       "<pre>Read 12246 images in 10.0016 secs\tspeed: 1369.48 file/sec</pre>"
      ],
      "text/plain": [
       "Read 12246 images in 10.0016 secs\tspeed: 1369.48 file/sec"
      ]
     },
     "metadata": {},
     "output_type": "display_data"
    },
    {
     "data": {
      "text/html": [
       "<pre>Read 19663 images in 15.0019 secs\tspeed: 1483.3 file/sec</pre>"
      ],
      "text/plain": [
       "Read 19663 images in 15.0019 secs\tspeed: 1483.3 file/sec"
      ]
     },
     "metadata": {},
     "output_type": "display_data"
    },
    {
     "data": {
      "text/html": [
       "<pre>Read 25561 images in 20.0022 secs\tspeed: 1179.54 file/sec</pre>"
      ],
      "text/plain": [
       "Read 25561 images in 20.0022 secs\tspeed: 1179.54 file/sec"
      ]
     },
     "metadata": {},
     "output_type": "display_data"
    },
    {
     "data": {
      "text/html": [
       "<pre>Read 31611 images in 25.0028 secs\tspeed: 1209.84 file/sec</pre>"
      ],
      "text/plain": [
       "Read 31611 images in 25.0028 secs\tspeed: 1209.84 file/sec"
      ]
     },
     "metadata": {},
     "output_type": "display_data"
    },
    {
     "data": {
      "text/html": [
       "<pre>Read 38542 images in 30.003 secs\tspeed: 1386.14 file/sec</pre>"
      ],
      "text/plain": [
       "Read 38542 images in 30.003 secs\tspeed: 1386.14 file/sec"
      ]
     },
     "metadata": {},
     "output_type": "display_data"
    },
    {
     "data": {
      "text/html": [
       "<pre>Read 44671 images in 35.003 secs\tspeed: 1225.79 file/sec</pre>"
      ],
      "text/plain": [
       "Read 44671 images in 35.003 secs\tspeed: 1225.79 file/sec"
      ]
     },
     "metadata": {},
     "output_type": "display_data"
    },
    {
     "data": {
      "text/html": [
       "<pre>Read 48630 images in 40.0063 secs\tspeed: 791.276 file/sec</pre>"
      ],
      "text/plain": [
       "Read 48630 images in 40.0063 secs\tspeed: 791.276 file/sec"
      ]
     },
     "metadata": {},
     "output_type": "display_data"
    },
    {
     "data": {
      "text/html": [
       "<pre>Read 53469 images in 45.007 secs\tspeed: 967.668 file/sec</pre>"
      ],
      "text/plain": [
       "Read 53469 images in 45.007 secs\tspeed: 967.668 file/sec"
      ]
     },
     "metadata": {},
     "output_type": "display_data"
    }
   ],
   "source": [
    "data = tc.image_analysis.load_images('Training', with_path=True)"
   ]
  },
  {
   "cell_type": "code",
   "execution_count": 4,
   "metadata": {},
   "outputs": [],
   "source": [
    "data['label'] = data['path'].apply(lambda path: os.path.basename(os.path.split(path)[0]))"
   ]
  },
  {
   "cell_type": "code",
   "execution_count": 5,
   "metadata": {},
   "outputs": [
    {
     "name": "stdout",
     "output_type": "stream",
     "text": [
      "['Apple Braeburn', 'Apple Braeburn', 'Apple Braeburn', 'Apple Braeburn', 'Apple Braeburn', 'Apple Braeburn', 'Apple Braeburn', 'Apple Braeburn', 'Apple Braeburn', 'Apple Braeburn', 'Apple Braeburn', 'Apple Braeburn', 'Apple Braeburn', 'Apple Braeburn', 'Apple Braeburn', 'Apple Braeburn', 'Apple Braeburn', 'Apple Braeburn', 'Apple Braeburn', 'Apple Braeburn', 'Apple Braeburn', 'Apple Braeburn', 'Apple Braeburn', 'Apple Braeburn', 'Apple Braeburn', 'Apple Braeburn', 'Apple Braeburn', 'Apple Braeburn', 'Apple Braeburn', 'Apple Braeburn', 'Apple Braeburn', 'Apple Braeburn', 'Apple Braeburn', 'Apple Braeburn', 'Apple Braeburn', 'Apple Braeburn', 'Apple Braeburn', 'Apple Braeburn', 'Apple Braeburn', 'Apple Braeburn', 'Apple Braeburn', 'Apple Braeburn', 'Apple Braeburn', 'Apple Braeburn', 'Apple Braeburn', 'Apple Braeburn', 'Apple Braeburn', 'Apple Braeburn', 'Apple Braeburn', 'Apple Braeburn', 'Apple Braeburn', 'Apple Braeburn', 'Apple Braeburn', 'Apple Braeburn', 'Apple Braeburn', 'Apple Braeburn', 'Apple Braeburn', 'Apple Braeburn', 'Apple Braeburn', 'Apple Braeburn', 'Apple Braeburn', 'Apple Braeburn', 'Apple Braeburn', 'Apple Braeburn', 'Apple Braeburn', 'Apple Braeburn', 'Apple Braeburn', 'Apple Braeburn', 'Apple Braeburn', 'Apple Braeburn', 'Apple Braeburn', 'Apple Braeburn', 'Apple Braeburn', 'Apple Braeburn', 'Apple Braeburn', 'Apple Braeburn', 'Apple Braeburn', 'Apple Braeburn', 'Apple Braeburn', 'Apple Braeburn', 'Apple Braeburn', 'Apple Braeburn', 'Apple Braeburn', 'Apple Braeburn', 'Apple Braeburn', 'Apple Braeburn', 'Apple Braeburn', 'Apple Braeburn', 'Apple Braeburn', 'Apple Braeburn', 'Apple Braeburn', 'Apple Braeburn', 'Apple Braeburn', 'Apple Braeburn', 'Apple Braeburn', 'Apple Braeburn', 'Apple Braeburn', 'Apple Braeburn', 'Apple Braeburn', 'Apple Braeburn', ... ]\n"
     ]
    }
   ],
   "source": [
    "print(data['label'])"
   ]
  },
  {
   "cell_type": "code",
   "execution_count": 6,
   "metadata": {},
   "outputs": [],
   "source": [
    "train_data, test_data = data.random_split(0.8)"
   ]
  },
  {
   "cell_type": "code",
   "execution_count": null,
   "metadata": {},
   "outputs": [
    {
     "data": {
      "text/html": [
       "<pre>Analyzing and extracting image features.</pre>"
      ],
      "text/plain": [
       "Analyzing and extracting image features."
      ]
     },
     "metadata": {},
     "output_type": "display_data"
    },
    {
     "data": {
      "text/html": [
       "<pre>+------------------+--------------+------------------+</pre>"
      ],
      "text/plain": [
       "+------------------+--------------+------------------+"
      ]
     },
     "metadata": {},
     "output_type": "display_data"
    },
    {
     "data": {
      "text/html": [
       "<pre>| Images Processed | Elapsed Time | Percent Complete |</pre>"
      ],
      "text/plain": [
       "| Images Processed | Elapsed Time | Percent Complete |"
      ]
     },
     "metadata": {},
     "output_type": "display_data"
    },
    {
     "data": {
      "text/html": [
       "<pre>+------------------+--------------+------------------+</pre>"
      ],
      "text/plain": [
       "+------------------+--------------+------------------+"
      ]
     },
     "metadata": {},
     "output_type": "display_data"
    },
    {
     "data": {
      "text/html": [
       "<pre>| 64               | 2m 4s        | 0%               |</pre>"
      ],
      "text/plain": [
       "| 64               | 2m 4s        | 0%               |"
      ]
     },
     "metadata": {},
     "output_type": "display_data"
    },
    {
     "data": {
      "text/html": [
       "<pre>| 128              | 2m 5s        | 0.25%            |</pre>"
      ],
      "text/plain": [
       "| 128              | 2m 5s        | 0.25%            |"
      ]
     },
     "metadata": {},
     "output_type": "display_data"
    },
    {
     "data": {
      "text/html": [
       "<pre>| 192              | 2m 6s        | 0.25%            |</pre>"
      ],
      "text/plain": [
       "| 192              | 2m 6s        | 0.25%            |"
      ]
     },
     "metadata": {},
     "output_type": "display_data"
    },
    {
     "data": {
      "text/html": [
       "<pre>| 256              | 2m 6s        | 0.5%             |</pre>"
      ],
      "text/plain": [
       "| 256              | 2m 6s        | 0.5%             |"
      ]
     },
     "metadata": {},
     "output_type": "display_data"
    },
    {
     "data": {
      "text/html": [
       "<pre>| 320              | 3m 27s       | 0.5%             |</pre>"
      ],
      "text/plain": [
       "| 320              | 3m 27s       | 0.5%             |"
      ]
     },
     "metadata": {},
     "output_type": "display_data"
    },
    {
     "data": {
      "text/html": [
       "<pre>| 448              | 3m 29s       | 1%               |</pre>"
      ],
      "text/plain": [
       "| 448              | 3m 29s       | 1%               |"
      ]
     },
     "metadata": {},
     "output_type": "display_data"
    },
    {
     "data": {
      "text/html": [
       "<pre>| 512              | 3m 29s       | 1%               |</pre>"
      ],
      "text/plain": [
       "| 512              | 3m 29s       | 1%               |"
      ]
     },
     "metadata": {},
     "output_type": "display_data"
    },
    {
     "data": {
      "text/html": [
       "<pre>| 576              | 4m 46s       | 1.25%            |</pre>"
      ],
      "text/plain": [
       "| 576              | 4m 46s       | 1.25%            |"
      ]
     },
     "metadata": {},
     "output_type": "display_data"
    },
    {
     "data": {
      "text/html": [
       "<pre>| 640              | 4m 47s       | 1.25%            |</pre>"
      ],
      "text/plain": [
       "| 640              | 4m 47s       | 1.25%            |"
      ]
     },
     "metadata": {},
     "output_type": "display_data"
    },
    {
     "data": {
      "text/html": [
       "<pre>| 704              | 4m 47s       | 1.5%             |</pre>"
      ],
      "text/plain": [
       "| 704              | 4m 47s       | 1.5%             |"
      ]
     },
     "metadata": {},
     "output_type": "display_data"
    },
    {
     "data": {
      "text/html": [
       "<pre>| 768              | 4m 47s       | 1.5%             |</pre>"
      ],
      "text/plain": [
       "| 768              | 4m 47s       | 1.5%             |"
      ]
     },
     "metadata": {},
     "output_type": "display_data"
    },
    {
     "data": {
      "text/html": [
       "<pre>| 832              | 6m 16s       | 1.75%            |</pre>"
      ],
      "text/plain": [
       "| 832              | 6m 16s       | 1.75%            |"
      ]
     },
     "metadata": {},
     "output_type": "display_data"
    },
    {
     "data": {
      "text/html": [
       "<pre>| 896              | 6m 17s       | 2%               |</pre>"
      ],
      "text/plain": [
       "| 896              | 6m 17s       | 2%               |"
      ]
     },
     "metadata": {},
     "output_type": "display_data"
    },
    {
     "data": {
      "text/html": [
       "<pre>| 960              | 6m 17s       | 2%               |</pre>"
      ],
      "text/plain": [
       "| 960              | 6m 17s       | 2%               |"
      ]
     },
     "metadata": {},
     "output_type": "display_data"
    },
    {
     "data": {
      "text/html": [
       "<pre>| 1024             | 6m 17s       | 2.25%            |</pre>"
      ],
      "text/plain": [
       "| 1024             | 6m 17s       | 2.25%            |"
      ]
     },
     "metadata": {},
     "output_type": "display_data"
    },
    {
     "data": {
      "text/html": [
       "<pre>| 1088             | 7m 52s       | 2.25%            |</pre>"
      ],
      "text/plain": [
       "| 1088             | 7m 52s       | 2.25%            |"
      ]
     },
     "metadata": {},
     "output_type": "display_data"
    },
    {
     "data": {
      "text/html": [
       "<pre>| 1152             | 7m 53s       | 2.5%             |</pre>"
      ],
      "text/plain": [
       "| 1152             | 7m 53s       | 2.5%             |"
      ]
     },
     "metadata": {},
     "output_type": "display_data"
    },
    {
     "data": {
      "text/html": [
       "<pre>| 1216             | 7m 54s       | 2.5%             |</pre>"
      ],
      "text/plain": [
       "| 1216             | 7m 54s       | 2.5%             |"
      ]
     },
     "metadata": {},
     "output_type": "display_data"
    },
    {
     "data": {
      "text/html": [
       "<pre>| 1280             | 7m 55s       | 2.75%            |</pre>"
      ],
      "text/plain": [
       "| 1280             | 7m 55s       | 2.75%            |"
      ]
     },
     "metadata": {},
     "output_type": "display_data"
    }
   ],
   "source": [
    "model = tc.image_classifier.create(train_data, target='label')"
   ]
  },
  {
   "cell_type": "code",
   "execution_count": null,
   "metadata": {},
   "outputs": [],
   "source": [
    "predictions = model.predict(test_data)"
   ]
  },
  {
   "cell_type": "code",
   "execution_count": null,
   "metadata": {},
   "outputs": [],
   "source": [
    "metrics = model.evaluate(test_data)"
   ]
  }
 ],
 "metadata": {
  "kernelspec": {
   "display_name": "Python 2",
   "language": "python",
   "name": "python2"
  },
  "language_info": {
   "codemirror_mode": {
    "name": "ipython",
    "version": 2
   },
   "file_extension": ".py",
   "mimetype": "text/x-python",
   "name": "python",
   "nbconvert_exporter": "python",
   "pygments_lexer": "ipython2",
   "version": "2.7.16"
  }
 },
 "nbformat": 4,
 "nbformat_minor": 2
}
